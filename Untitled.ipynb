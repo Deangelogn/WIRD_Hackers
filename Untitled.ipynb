{
 "cells": [
  {
   "cell_type": "code",
   "execution_count": 1,
   "metadata": {},
   "outputs": [
    {
     "name": "stdout",
     "output_type": "stream",
     "text": [
      "['ano' 'nivel' 'cod_curso' 'nome_curso' 'cidade' 'pais' 'nome_pais' 'total']\n",
      "['ano' 'nivel' 'cod_curso' 'nome_curso' 'cidade' 'pais' 'nome_pais' 'total']\n",
      "['ano' 'nivel' 'cod_curso' 'nome_curso' 'cidade' 'pais' 'nome_pais' 'total']\n",
      "['ano' 'nivel' 'cod_curso' 'nome_curso' 'cidade' 'estado' 'pais'\n",
      " 'nome_pais' 'total' 'cidade2' 'uf']\n",
      "['ano' 'nivel' 'cod_curso' 'nome_curso' 'cidade' 'pais' 'nome_pais' 'total']\n",
      "['ra' 'forma_ingresso' 'nome_curso' 'ingresso' 'egresso' 'motivo_egresso'\n",
      " 'cr']\n",
      "['area' 'curso' 'ano' 'cv' 'cr']\n",
      "['nr_processo' 'titulo' 'title' 'beneficiario' 'instituicao' 'cidade'\n",
      " 'pesquisador_responsavel' 'pesquisadores_principais' 'linha_fomento'\n",
      " 'grande_area_conhecimento' 'area_conhecimento' 'sub_area_conhecimento'\n",
      " 'assuntos' 'data_inicio' 'data_fim']\n",
      "['matricula' 'nome' 'bruto' 'indenizacoes' 'redutor' 'descontos_legais'\n",
      " 'liquido' 'ano' 'mes']\n",
      "['matricula' 'nome' 'ramal' 'lotacao']\n",
      "['ra' 'pais' 'cep' 'uf' 'curso' 'nivel' 'ano_ingresso']\n",
      "['unidade' 'categoria' 'curso' 'nivel' 'nome_curso' 'feminino' 'masculino'\n",
      " 'total']\n",
      "['orgao' 'uo' 'unidade_gestora' 'fornte_recursos' 'licitacao' 'funcao'\n",
      " 'sub_funcao' 'programa' 'acao' 'funcional programatica' 'municipio'\n",
      " 'credor' 'despesa' 'pago' 'pago_restos']\n"
     ]
    }
   ],
   "source": [
    "import pandas, mysql.connector\n",
    "\n",
    "conn = mysql.connector.connect(host='143.106.73.88', database='information_schema', user='htc', password='htc_123456')\n",
    "tables=pandas.read_sql(\"SELECT * FROM tables where TABLE_TYPE='BASE TABLE'\", con=conn)\n",
    "dBases=[]\n",
    "\n",
    "for l in tables.TABLE_NAME:\n",
    "    dBases.append(l)\n",
    "conn.close()\n",
    "\n",
    "for l in dBases:\n",
    "    conn = mysql.connector.connect(host='143.106.73.88', database='hackthecampus', user='htc', password='htc_123456')\n",
    "    dataFrame = pandas.read_sql(\"SELECT * FROM \" + l, con=conn)\n",
    "    print (dataFrame.columns.values)\n",
    "    conn.close()\n"
   ]
  }
 ],
 "metadata": {
  "kernelspec": {
   "display_name": "Python 3",
   "language": "python",
   "name": "python3"
  },
  "language_info": {
   "codemirror_mode": {
    "name": "ipython",
    "version": 3
   },
   "file_extension": ".py",
   "mimetype": "text/x-python",
   "name": "python",
   "nbconvert_exporter": "python",
   "pygments_lexer": "ipython3",
   "version": "3.6.3"
  }
 },
 "nbformat": 4,
 "nbformat_minor": 2
}
