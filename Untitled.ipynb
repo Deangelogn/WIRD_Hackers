{
 "cells": [
  {
   "cell_type": "code",
   "execution_count": null,
   "metadata": {},
   "outputs": [
    {
     "name": "stdout",
     "output_type": "stream",
     "text": [
      "['ano' 'nivel' 'cod_curso' 'nome_curso' 'cidade' 'pais' 'nome_pais' 'total']\n",
      "['ano' 'nivel' 'cod_curso' 'nome_curso' 'cidade' 'pais' 'nome_pais' 'total']\n",
      "['ano' 'nivel' 'cod_curso' 'nome_curso' 'cidade' 'pais' 'nome_pais' 'total']\n"
     ]
    }
   ],
   "source": [
    "import pandas, mysql.connector\n",
    "\n",
    "conn = mysql.connector.connect(host='143.106.73.88', database='information_schema', user='htc', password='htc_123456')\n",
    "tables=pandas.read_sql(\"SELECT * FROM tables where TABLE_TYPE='BASE TABLE'\", con=conn)\n",
    "dBases=[]\n",
    "\n",
    "for l in tables.TABLE_NAME:\n",
    "    dBases.append(l)\n",
    "conn.close()\n",
    "\n",
    "for l in dBases:\n",
    "    conn = mysql.connector.connect(host='143.106.73.88', database='hackthecampus', user='htc', password='htc_123456')\n",
    "    dataFrame = pandas.read_sql(\"SELECT * FROM \" + l, con=conn)\n",
    "    print (dataFrame.columns.values)\n",
    "    conn.close()\n"
   ]
  }
 ],
 "metadata": {
  "kernelspec": {
   "display_name": "Python 3",
   "language": "python",
   "name": "python3"
  },
  "language_info": {
   "codemirror_mode": {
    "name": "ipython",
    "version": 3
   },
   "file_extension": ".py",
   "mimetype": "text/x-python",
   "name": "python",
   "nbconvert_exporter": "python",
   "pygments_lexer": "ipython3",
   "version": "3.6.3"
  }
 },
 "nbformat": 4,
 "nbformat_minor": 2
}
